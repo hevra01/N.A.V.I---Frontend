{
 "cells": [
  {
   "cell_type": "code",
   "execution_count": 3,
   "id": "02744cae",
   "metadata": {},
   "outputs": [],
   "source": [
    "from flask import Flask, request, jsonify, g as app_ctx\n",
    "import pickle\n",
    "import numpy as np\n",
    "import torch\n",
    "import cv2\n",
    "import io\n",
    "from matplotlib import pyplot as plt\n",
    "import time\n",
    "from position_calculator import calculate_position\n",
    "from ultralytics import YOLO\n",
    "#The Python Imaging Library adds image processing capabilities to your Python interpreter. \n",
    "import PIL\n",
    "#Pickle is used for serializing and de-serializing Python object structures, \n",
    "#also called marshalling or flattening. Serialization refers to the process \n",
    "#of converting an object in memory to a byte stream that can be stored on \n",
    "#disk or sent over a network. Later on, this character stream can then be \n",
    "#retrieved and de-serialized back to a Python object. \n",
    "#Unpickling a file that was pickled in a different version of Python may \n",
    "#not always work properly\n",
    "#https://www.datacamp.com/tutorial/pickle-python-tutorial"
   ]
  },
  {
   "cell_type": "code",
   "execution_count": 5,
   "id": "49607df1",
   "metadata": {},
   "outputs": [],
   "source": [
    "# This dictionary will be utilized while finding the distance of objects from the user. \n",
    "# We are using the width of an object instead of its height because while capturing the \n",
    "# frame, the complete height of the object might not be captured. The width is more likely\n",
    "# to be appearing in full length.\n",
    "objects_actual_width = {'person': 38.5, 'tv':5, 'bicycle': 175, 'couch': 152, 'bus': 1200, 'car': 448, 'chair': 46, 'motorcycle': 221, \n",
    "                       'traffic light': 40 , 'bed': 141, 'bench': 114, 'dining_table': 160, 'dog': 84, 'cat': 38}"
   ]
  },
  {
   "cell_type": "code",
   "execution_count": 6,
   "id": "698426ac",
   "metadata": {},
   "outputs": [
    {
     "name": "stderr",
     "output_type": "stream",
     "text": [
      "Downloading https:\\github.com\\ultralytics\\assets\\releases\\download\\v0.0.0\\yolov8n.pt to yolov8n.pt...\n"
     ]
    },
    {
     "data": {
      "application/vnd.jupyter.widget-view+json": {
       "model_id": "a49e3f13e3234f0e9bb49abd7c8d7216",
       "version_major": 2,
       "version_minor": 0
      },
      "text/plain": [
       "  0%|          | 0.00/6.23M [00:00<?, ?B/s]"
      ]
     },
     "metadata": {},
     "output_type": "display_data"
    }
   ],
   "source": [
    "navi_app = Flask(__name__)\n",
    "# after the application starts, we can load the model for once \n",
    "# and make several requests to it\n",
    "model = YOLO(\"yolov8n.pt\") "
   ]
  },
  {
   "cell_type": "code",
   "execution_count": 7,
   "id": "9ea4ad4e",
   "metadata": {},
   "outputs": [],
   "source": [
    "# flask's before_request and after_request decorator to measure time taken for a request to complete.\n",
    "@navi_app.before_request\n",
    "def logging_before():\n",
    "    # Store the start time for the request\n",
    "    app_ctx.start_time = time.perf_counter()\n",
    "\n",
    "\n",
    "@navi_app.after_request\n",
    "def logging_after(response):\n",
    "    # Get total time in milliseconds\n",
    "    total_time = time.perf_counter() - app_ctx.start_time\n",
    "    time_in_ms = int(total_time * 1000)\n",
    "    # Log the time taken for the endpoint \n",
    "    print('Response time => ', time_in_ms, 'ms')\n",
    "    return response"
   ]
  },
  {
   "cell_type": "code",
   "execution_count": 8,
   "id": "3d1405f7",
   "metadata": {},
   "outputs": [],
   "source": [
    "@navi_app.route('/predict', methods=[\"GET\", \"POST\"])\n",
    "def predict():\n",
    "    if request.method == \"GET\":\n",
    "        return \"Please send post request\"\n",
    "\n",
    "    elif request.method == \"POST\":\n",
    "        frame = request.files.get('frame') # get the frame sent by the API request \n",
    "        im_bytes = frame.read() # convert the file into byte stream\n",
    "        image = PIL.Image.open(io.BytesIO(im_bytes)) # convert the byte stream into \n",
    "        image.show()\n",
    "        image_width, image_height = image.size\n",
    "        \n",
    "        prediction = model(image)\n",
    "        objects_with_positions = calculate_position(prediction.pandas().xyxy, objects_actual_width, image_width, image_height)\n",
    "        \n",
    "        data = {\n",
    "            \"objects_with_positions\" : objects_with_positions,\n",
    "        }\n",
    "  \n",
    "        return jsonify(data)"
   ]
  },
  {
   "cell_type": "code",
   "execution_count": null,
   "id": "3091ca01",
   "metadata": {
    "scrolled": false
   },
   "outputs": [
    {
     "name": "stdout",
     "output_type": "stream",
     "text": [
      " * Serving Flask app '__main__'\n",
      " * Debug mode: off\n"
     ]
    },
    {
     "name": "stderr",
     "output_type": "stream",
     "text": [
      "WARNING: This is a development server. Do not use it in a production deployment. Use a production WSGI server instead.\n",
      " * Running on all addresses (0.0.0.0)\n",
      " * Running on http://127.0.0.1:5000\n",
      " * Running on http://10.143.11.150:5000\n",
      "Press CTRL+C to quit\n",
      "10.143.11.150 - - [10/Apr/2023 15:28:23] \"POST /predict HTTP/1.1\" 200 -\n"
     ]
    },
    {
     "name": "stdout",
     "output_type": "stream",
     "text": [
      "Response time =>  20619 ms\n"
     ]
    },
    {
     "name": "stderr",
     "output_type": "stream",
     "text": [
      "10.143.11.150 - - [10/Apr/2023 15:28:44] \"POST /predict HTTP/1.1\" 200 -\n"
     ]
    },
    {
     "name": "stdout",
     "output_type": "stream",
     "text": [
      "Response time =>  19505 ms\n"
     ]
    },
    {
     "name": "stderr",
     "output_type": "stream",
     "text": [
      "10.143.11.150 - - [10/Apr/2023 15:29:05] \"POST /predict HTTP/1.1\" 200 -\n"
     ]
    },
    {
     "name": "stdout",
     "output_type": "stream",
     "text": [
      "Response time =>  19641 ms\n"
     ]
    },
    {
     "name": "stderr",
     "output_type": "stream",
     "text": [
      "10.143.11.150 - - [10/Apr/2023 15:29:26] \"POST /predict HTTP/1.1\" 200 -\n"
     ]
    },
    {
     "name": "stdout",
     "output_type": "stream",
     "text": [
      "Response time =>  19758 ms\n"
     ]
    },
    {
     "name": "stderr",
     "output_type": "stream",
     "text": [
      "10.143.11.150 - - [10/Apr/2023 15:29:47] \"POST /predict HTTP/1.1\" 200 -\n"
     ]
    },
    {
     "name": "stdout",
     "output_type": "stream",
     "text": [
      "Response time =>  19523 ms\n"
     ]
    },
    {
     "name": "stderr",
     "output_type": "stream",
     "text": [
      "10.143.11.150 - - [10/Apr/2023 15:30:08] \"POST /predict HTTP/1.1\" 200 -\n"
     ]
    },
    {
     "name": "stdout",
     "output_type": "stream",
     "text": [
      "Response time =>  19685 ms\n"
     ]
    },
    {
     "name": "stderr",
     "output_type": "stream",
     "text": [
      "10.143.11.150 - - [10/Apr/2023 15:30:29] \"POST /predict HTTP/1.1\" 200 -\n"
     ]
    },
    {
     "name": "stdout",
     "output_type": "stream",
     "text": [
      "Response time =>  19700 ms\n"
     ]
    },
    {
     "name": "stderr",
     "output_type": "stream",
     "text": [
      "10.143.11.150 - - [10/Apr/2023 15:30:53] \"POST /predict HTTP/1.1\" 200 -\n"
     ]
    },
    {
     "name": "stdout",
     "output_type": "stream",
     "text": [
      "Response time =>  19675 ms\n"
     ]
    },
    {
     "name": "stderr",
     "output_type": "stream",
     "text": [
      "10.143.11.150 - - [10/Apr/2023 16:27:36] \"POST /predict HTTP/1.1\" 200 -\n"
     ]
    },
    {
     "name": "stdout",
     "output_type": "stream",
     "text": [
      "Response time =>  20684 ms\n"
     ]
    },
    {
     "name": "stderr",
     "output_type": "stream",
     "text": [
      "10.143.11.150 - - [10/Apr/2023 16:27:58] \"POST /predict HTTP/1.1\" 200 -\n"
     ]
    },
    {
     "name": "stdout",
     "output_type": "stream",
     "text": [
      "Response time =>  19828 ms\n"
     ]
    },
    {
     "name": "stderr",
     "output_type": "stream",
     "text": [
      "10.143.11.150 - - [10/Apr/2023 16:28:19] \"POST /predict HTTP/1.1\" 200 -\n"
     ]
    },
    {
     "name": "stdout",
     "output_type": "stream",
     "text": [
      "Response time =>  19621 ms\n"
     ]
    },
    {
     "name": "stderr",
     "output_type": "stream",
     "text": [
      "[2023-04-10 16:28:40,145] ERROR in app: Exception on /predict [POST]\n",
      "Traceback (most recent call last):\n",
      "  File \"C:\\Users\\hevra\\AppData\\Roaming\\Python\\Python39\\site-packages\\flask\\app.py\", line 2525, in wsgi_app\n",
      "    response = self.full_dispatch_request()\n",
      "  File \"C:\\Users\\hevra\\AppData\\Roaming\\Python\\Python39\\site-packages\\flask\\app.py\", line 1822, in full_dispatch_request\n",
      "    rv = self.handle_user_exception(e)\n",
      "  File \"C:\\Users\\hevra\\AppData\\Roaming\\Python\\Python39\\site-packages\\flask\\app.py\", line 1820, in full_dispatch_request\n",
      "    rv = self.dispatch_request()\n",
      "  File \"C:\\Users\\hevra\\AppData\\Roaming\\Python\\Python39\\site-packages\\flask\\app.py\", line 1796, in dispatch_request\n",
      "    return self.ensure_sync(self.view_functions[rule.endpoint])(**view_args)\n",
      "  File \"C:\\Users\\hevra\\AppData\\Local\\Temp\\ipykernel_9092\\3075169150.py\", line 14, in predict\n",
      "    objects_with_positions = calculate_position(prediction.pandas().xyxy, objects_actual_width, image_width, image_height)\n",
      "  File \"C:\\Users\\hevra\\anaconda3\\envs\\grad_model\\ultralytics_yolov5_master\\position_calculator.py\", line 92, in calculate_position\n",
      "    objects_with_positions = list_creation_objects_with_their_distances(predictions, objects_actual_width)\n",
      "  File \"C:\\Users\\hevra\\anaconda3\\envs\\grad_model\\ultralytics_yolov5_master\\position_calculator.py\", line 29, in list_creation_objects_with_their_distances\n",
      "    actual_width = objects_actual_width[instance[6]] # instance[6] represents the name\n",
      "KeyError: 'dining table'\n",
      "10.143.11.150 - - [10/Apr/2023 16:28:40] \"POST /predict HTTP/1.1\" 500 -\n"
     ]
    },
    {
     "name": "stdout",
     "output_type": "stream",
     "text": [
      "Response time =>  19788 ms\n"
     ]
    }
   ],
   "source": [
    "navi_app.run(port=5000, host='0.0.0.0', debug=False)"
   ]
  },
  {
   "cell_type": "code",
   "execution_count": null,
   "id": "bea55887",
   "metadata": {},
   "outputs": [],
   "source": []
  },
  {
   "cell_type": "code",
   "execution_count": null,
   "id": "26042705",
   "metadata": {},
   "outputs": [],
   "source": []
  }
 ],
 "metadata": {
  "kernelspec": {
   "display_name": "Python 3 (ipykernel)",
   "language": "python",
   "name": "python3"
  },
  "language_info": {
   "codemirror_mode": {
    "name": "ipython",
    "version": 3
   },
   "file_extension": ".py",
   "mimetype": "text/x-python",
   "name": "python",
   "nbconvert_exporter": "python",
   "pygments_lexer": "ipython3",
   "version": "3.9.12"
  }
 },
 "nbformat": 4,
 "nbformat_minor": 5
}
